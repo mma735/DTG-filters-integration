{
 "cells": [
  {
   "cell_type": "code",
   "execution_count": 1,
   "id": "863c1a70",
   "metadata": {},
   "outputs": [
    {
     "name": "stderr",
     "output_type": "stream",
     "text": [
      "C:\\Users\\marco\\AppData\\Local\\Temp\\ipykernel_15348\\1865039913.py:6: DeprecationWarning: Please use `gaussian_filter1d` from the `scipy.ndimage` namespace, the `scipy.ndimage.filters` namespace is deprecated.\n",
      "  from scipy.ndimage.filters import gaussian_filter1d\n"
     ]
    }
   ],
   "source": [
    "# Importación de paquetes.\n",
    "import pandas as pd\n",
    "import numpy as np\n",
    "import matplotlib.pyplot as plt\n",
    "import scipy.signal as ss\n",
    "from scipy.ndimage.filters import gaussian_filter1d\n",
    "from scipy.interpolate import interp1d\n",
    "%matplotlib inline"
   ]
  },
  {
   "cell_type": "code",
   "execution_count": 2,
   "id": "b922380f",
   "metadata": {},
   "outputs": [],
   "source": [
    "# Función para aplicar suavizado con kernel gaussiano en una región específica\n",
    "def apply_gaussian_smoothing(y, transition_index, sigma1, sigma2):\n",
    "    y_smooth = np.copy(y)\n",
    "    y_smooth[:transition_index+1] = gaussian_filter1d(y[:transition_index+1], sigma=sigma1, order=0)\n",
    "    y_smooth[transition_index:] = gaussian_filter1d(y[transition_index:], sigma=sigma2, order=0)\n",
    "    return y_smooth"
   ]
  },
  {
   "cell_type": "code",
   "execution_count": 3,
   "id": "5e822189",
   "metadata": {},
   "outputs": [],
   "source": [
    "# Importación de datos TG de Mica funcionalizada.\n",
    "df1 = pd.read_csv('./nuevaCarpeta/Mica2_Er_TG.txt',sep='\\t',header=None,names=['Temperatura','TG'], \n",
    "        usecols=['Temperatura','TG'])"
   ]
  },
  {
   "cell_type": "code",
   "execution_count": 4,
   "id": "5c800c52",
   "metadata": {},
   "outputs": [],
   "source": [
    "x = df1[\"Temperatura\"].values\n",
    "y = df1[\"TG\"].values"
   ]
  },
  {
   "cell_type": "code",
   "execution_count": 5,
   "id": "1e0a3377",
   "metadata": {},
   "outputs": [
    {
     "data": {
      "text/html": [
       "<div>\n",
       "<style scoped>\n",
       "    .dataframe tbody tr th:only-of-type {\n",
       "        vertical-align: middle;\n",
       "    }\n",
       "\n",
       "    .dataframe tbody tr th {\n",
       "        vertical-align: top;\n",
       "    }\n",
       "\n",
       "    .dataframe thead th {\n",
       "        text-align: right;\n",
       "    }\n",
       "</style>\n",
       "<table border=\"1\" class=\"dataframe\">\n",
       "  <thead>\n",
       "    <tr style=\"text-align: right;\">\n",
       "      <th></th>\n",
       "      <th>Temperatura</th>\n",
       "      <th>TG</th>\n",
       "    </tr>\n",
       "  </thead>\n",
       "  <tbody>\n",
       "    <tr>\n",
       "      <th>0</th>\n",
       "      <td>18.40</td>\n",
       "      <td>0.000000</td>\n",
       "    </tr>\n",
       "    <tr>\n",
       "      <th>1</th>\n",
       "      <td>18.40</td>\n",
       "      <td>-0.000606</td>\n",
       "    </tr>\n",
       "    <tr>\n",
       "      <th>2</th>\n",
       "      <td>18.35</td>\n",
       "      <td>-0.000494</td>\n",
       "    </tr>\n",
       "    <tr>\n",
       "      <th>21</th>\n",
       "      <td>18.33</td>\n",
       "      <td>-0.000500</td>\n",
       "    </tr>\n",
       "    <tr>\n",
       "      <th>22</th>\n",
       "      <td>18.33</td>\n",
       "      <td>-0.000554</td>\n",
       "    </tr>\n",
       "    <tr>\n",
       "      <th>23</th>\n",
       "      <td>18.32</td>\n",
       "      <td>-0.000393</td>\n",
       "    </tr>\n",
       "    <tr>\n",
       "      <th>24</th>\n",
       "      <td>18.31</td>\n",
       "      <td>-0.000181</td>\n",
       "    </tr>\n",
       "    <tr>\n",
       "      <th>25</th>\n",
       "      <td>18.32</td>\n",
       "      <td>-0.000104</td>\n",
       "    </tr>\n",
       "    <tr>\n",
       "      <th>451</th>\n",
       "      <td>39.06</td>\n",
       "      <td>-0.002380</td>\n",
       "    </tr>\n",
       "    <tr>\n",
       "      <th>452</th>\n",
       "      <td>39.29</td>\n",
       "      <td>-0.005300</td>\n",
       "    </tr>\n",
       "    <tr>\n",
       "      <th>453</th>\n",
       "      <td>39.53</td>\n",
       "      <td>-0.008260</td>\n",
       "    </tr>\n",
       "    <tr>\n",
       "      <th>454</th>\n",
       "      <td>39.78</td>\n",
       "      <td>-0.011600</td>\n",
       "    </tr>\n",
       "    <tr>\n",
       "      <th>455</th>\n",
       "      <td>40.01</td>\n",
       "      <td>-0.014800</td>\n",
       "    </tr>\n",
       "    <tr>\n",
       "      <th>456</th>\n",
       "      <td>40.24</td>\n",
       "      <td>-0.018100</td>\n",
       "    </tr>\n",
       "    <tr>\n",
       "      <th>457</th>\n",
       "      <td>40.49</td>\n",
       "      <td>-0.021500</td>\n",
       "    </tr>\n",
       "    <tr>\n",
       "      <th>458</th>\n",
       "      <td>40.72</td>\n",
       "      <td>-0.025100</td>\n",
       "    </tr>\n",
       "    <tr>\n",
       "      <th>459</th>\n",
       "      <td>40.97</td>\n",
       "      <td>-0.028900</td>\n",
       "    </tr>\n",
       "    <tr>\n",
       "      <th>460</th>\n",
       "      <td>41.22</td>\n",
       "      <td>-0.032600</td>\n",
       "    </tr>\n",
       "    <tr>\n",
       "      <th>461</th>\n",
       "      <td>41.46</td>\n",
       "      <td>-0.036400</td>\n",
       "    </tr>\n",
       "    <tr>\n",
       "      <th>462</th>\n",
       "      <td>41.71</td>\n",
       "      <td>-0.040000</td>\n",
       "    </tr>\n",
       "  </tbody>\n",
       "</table>\n",
       "</div>"
      ],
      "text/plain": [
       "     Temperatura        TG\n",
       "0          18.40  0.000000\n",
       "1          18.40 -0.000606\n",
       "2          18.35 -0.000494\n",
       "21         18.33 -0.000500\n",
       "22         18.33 -0.000554\n",
       "23         18.32 -0.000393\n",
       "24         18.31 -0.000181\n",
       "25         18.32 -0.000104\n",
       "451        39.06 -0.002380\n",
       "452        39.29 -0.005300\n",
       "453        39.53 -0.008260\n",
       "454        39.78 -0.011600\n",
       "455        40.01 -0.014800\n",
       "456        40.24 -0.018100\n",
       "457        40.49 -0.021500\n",
       "458        40.72 -0.025100\n",
       "459        40.97 -0.028900\n",
       "460        41.22 -0.032600\n",
       "461        41.46 -0.036400\n",
       "462        41.71 -0.040000"
      ]
     },
     "execution_count": 5,
     "metadata": {},
     "output_type": "execute_result"
    }
   ],
   "source": [
    "# Filtrado de datos.\n",
    "df1.loc[df1[\"TG\"]<=0].head(20)"
   ]
  },
  {
   "cell_type": "code",
   "execution_count": 6,
   "id": "abe7612c",
   "metadata": {},
   "outputs": [
    {
     "data": {
      "text/plain": [
       "[<matplotlib.lines.Line2D at 0x213758e2f20>]"
      ]
     },
     "execution_count": 6,
     "metadata": {},
     "output_type": "execute_result"
    },
    {
     "data": {
      "image/png": "[encoded data removed]",
      "text/plain": [
       "<Figure size 864x648 with 1 Axes>"
      ]
     },
     "metadata": {
      "needs_background": "light"
     },
     "output_type": "display_data"
    }
   ],
   "source": [
    "plt.figure(figsize=(12, 9))\n",
    "plt.plot(x[451:], y[451:], linewidth=3, label=\"y\")"
   ]
  },
  {
   "cell_type": "code",
   "execution_count": 7,
   "id": "4adbffaa",
   "metadata": {},
   "outputs": [],
   "source": [
    "x = x[451:]\n",
    "y = y[451:]"
   ]
  },
  {
   "cell_type": "code",
   "execution_count": 8,
   "id": "1b4d4827",
   "metadata": {},
   "outputs": [],
   "source": [
    "# Interpolación de los puntos del eje x.\n",
    "x_interpolated = np.linspace(x.min(), x.max(), len(x))\n",
    "y_interpolated = interp1d(x, y)(x_interpolated)"
   ]
  },
  {
   "cell_type": "code",
   "execution_count": 9,
   "id": "0909a4ea",
   "metadata": {},
   "outputs": [
    {
     "name": "stdout",
     "output_type": "stream",
     "text": [
      "[-0.01269565 -0.01251737 -0.01281059 ...  0.          0.\n",
      "  0.        ]\n"
     ]
    }
   ],
   "source": [
    "def calculate_derivative(x, y):\n",
    "    dx = np.gradient(x)   # Calcular el espaciado entre puntos en el eje x\n",
    "    dy = np.gradient(y)   # Calcular la diferencia entre puntos en el eje y\n",
    "    derivative = dy / dx  # Calcular la derivada punto por punto\n",
    "    return derivative\n",
    "#(x_interpolated, y_smooth)\n",
    "derivative_raw = calculate_derivative(x_interpolated, y_interpolated)\n",
    "print(derivative_raw)"
   ]
  },
  {
   "cell_type": "code",
   "execution_count": 10,
   "id": "3257b864",
   "metadata": {},
   "outputs": [
    {
     "data": {
      "text/plain": [
       "1595"
      ]
     },
     "execution_count": 10,
     "metadata": {},
     "output_type": "execute_result"
    }
   ],
   "source": [
    "temp = np.where(x_interpolated>400)[0][0]\n",
    "temp"
   ]
  },
  {
   "cell_type": "code",
   "execution_count": 11,
   "id": "2184e9fa",
   "metadata": {},
   "outputs": [
    {
     "data": {
      "text/plain": [
       "[<matplotlib.lines.Line2D at 0x21377f28220>]"
      ]
     },
     "execution_count": 11,
     "metadata": {},
     "output_type": "execute_result"
    },
    {
     "data": {
      "image/png": "[encoded data removed]",
      "text/plain": [
       "<Figure size 864x648 with 1 Axes>"
      ]
     },
     "metadata": {
      "needs_background": "light"
     },
     "output_type": "display_data"
    }
   ],
   "source": [
    "plt.figure(figsize=(12, 9))\n",
    "plt.plot(x_interpolated[:], derivative_raw[:], linewidth=3, label=\"y_dev_smooth\")"
   ]
  },
  {
   "cell_type": "code",
   "execution_count": 12,
   "id": "03c33f8a",
   "metadata": {},
   "outputs": [
    {
     "name": "stdout",
     "output_type": "stream",
     "text": [
      "1595\n"
     ]
    }
   ],
   "source": [
    "end_start = np.where(x_interpolated > 400)[0][0]  # Filtrado de datos\n",
    "print(end_start)"
   ]
  },
  {
   "cell_type": "code",
   "execution_count": 13,
   "id": "7dbdb5c4",
   "metadata": {},
   "outputs": [],
   "source": [
    "# Definir las regiones donde se aplicará el suavizado\n",
    "transition_index = end_start\n",
    "\n",
    "# Aplicar suavizado en cada región con diferentes parámetros\n",
    "#y_smooth = apply_savgol_smoothing(y, transition_index, window_length1=60, polyorder1=2, window_length2=100, polyorder2=2)\n",
    "#y_smooth = apply_gaussian_smoothing(y_interpolated, transition_index=end_start, sigma1=15, sigma2=50)"
   ]
  },
  {
   "cell_type": "code",
   "execution_count": 14,
   "id": "6db68699",
   "metadata": {},
   "outputs": [],
   "source": [
    "y_smooth = gaussian_filter1d(y_interpolated, sigma=15, order=0)\n",
    "# ss.savgol_filter(y, window_length=200, polyorder=2)"
   ]
  },
  {
   "cell_type": "code",
   "execution_count": 15,
   "id": "98a7a984",
   "metadata": {},
   "outputs": [
    {
     "data": {
      "text/plain": [
       "[<matplotlib.lines.Line2D at 0x21377f73430>]"
      ]
     },
     "execution_count": 15,
     "metadata": {},
     "output_type": "execute_result"
    },
    {
     "data": {
      "image/png": "[encoded data removed]",
      "text/plain": [
       "<Figure size 864x648 with 1 Axes>"
      ]
     },
     "metadata": {
      "needs_background": "light"
     },
     "output_type": "display_data"
    }
   ],
   "source": [
    "plt.figure(figsize=(12, 9))\n",
    "plt.plot(x_interpolated, y_smooth, linewidth=3, label=\"y_smoothed\")"
   ]
  },
  {
   "cell_type": "code",
   "execution_count": 16,
   "id": "ef44eb15",
   "metadata": {},
   "outputs": [
    {
     "name": "stdout",
     "output_type": "stream",
     "text": [
      "[-0.00092688 -0.00138882 -0.00230975 ...  0.          0.\n",
      "  0.        ]\n"
     ]
    }
   ],
   "source": [
    "derivative = calculate_derivative(x_interpolated, y_smooth)\n",
    "print(derivative)"
   ]
  },
  {
   "cell_type": "code",
   "execution_count": 17,
   "id": "586f4ad0",
   "metadata": {},
   "outputs": [
    {
     "data": {
      "text/plain": [
       "[<matplotlib.lines.Line2D at 0x21377fde6b0>]"
      ]
     },
     "execution_count": 17,
     "metadata": {},
     "output_type": "execute_result"
    },
    {
     "data": {
      "image/png": "[encoded data removed]",
      "text/plain": [
       "<Figure size 864x648 with 1 Axes>"
      ]
     },
     "metadata": {
      "needs_background": "light"
     },
     "output_type": "display_data"
    }
   ],
   "source": [
    "plt.figure(figsize=(12, 9))\n",
    "plt.plot(x_interpolated, derivative, linewidth=3, label=\"y_dev_smooth\")"
   ]
  },
  {
   "cell_type": "code",
   "execution_count": 18,
   "id": "575f44d0",
   "metadata": {},
   "outputs": [
    {
     "data": {
      "text/plain": [
       "[<matplotlib.lines.Line2D at 0x2137804d480>]"
      ]
     },
     "execution_count": 18,
     "metadata": {},
     "output_type": "execute_result"
    },
    {
     "data": {
      "image/png": "[encoded data removed]",
      "text/plain": [
       "<Figure size 864x648 with 1 Axes>"
      ]
     },
     "metadata": {
      "needs_background": "light"
     },
     "output_type": "display_data"
    }
   ],
   "source": [
    "# Aplicación del filtro de suavizado con kernel gaussiano en la primera derivada.\n",
    "y_dev_smooth = ss.savgol_filter(derivative,window_length=300,polyorder=2,deriv=0)\n",
    "# gaussian_filter1d(derivative, sigma=31, order=0)\n",
    "#ss.savgol_filter(derivative,window_length=50,polyorder=2,deriv=0)\n",
    "plt.figure(figsize=(12, 9))\n",
    "plt.plot(x_interpolated[:], y_dev_smooth[:], linewidth=3, label=\"y_dev_smooth\")"
   ]
  },
  {
   "cell_type": "code",
   "execution_count": 28,
   "id": "fc9cf655",
   "metadata": {},
   "outputs": [
    {
     "name": "stdout",
     "output_type": "stream",
     "text": [
      "0\n"
     ]
    }
   ],
   "source": [
    "a = np.where(x_interpolated > 39)[0][0]  # Filtrado de datos\n",
    "print(a)"
   ]
  },
  {
   "cell_type": "code",
   "execution_count": 34,
   "id": "e6ba7b6a",
   "metadata": {},
   "outputs": [
    {
     "data": {
      "text/plain": [
       "39.06"
      ]
     },
     "execution_count": 34,
     "metadata": {},
     "output_type": "execute_result"
    }
   ],
   "source": [
    "x_interpolated[0]"
   ]
  },
  {
   "cell_type": "code",
   "execution_count": 35,
   "id": "3a5c0b9c",
   "metadata": {},
   "outputs": [
    {
     "name": "stdout",
     "output_type": "stream",
     "text": [
      "39.06\n",
      "0.0033826895459133635\n"
     ]
    }
   ],
   "source": [
    "print(x_interpolated[0])\n",
    "print(y_dev_smooth[0])"
   ]
  },
  {
   "cell_type": "code",
   "execution_count": 21,
   "id": "68b4552c",
   "metadata": {},
   "outputs": [],
   "source": [
    "# Exportación de datos DTG de Mica-2 funcionalizada.\n",
    "df2 = pd.DataFrame({\"Temperatura\":x,\"TG_smooth\":y_smooth,\"TG_dev\":y_dev_smooth})\n",
    "df2.to_csv('./nuevaCarpeta/Mica2_Er_TG_smooth.txt',sep='\\t',index=False,decimal=',')"
   ]
  },
  {
   "cell_type": "code",
   "execution_count": 22,
   "id": "9467ac86",
   "metadata": {},
   "outputs": [],
   "source": [
    "#x_interpolated[:], derivative[:]\n",
    "df3 = pd.DataFrame({\"Temperatura\":x,\"DTG_raw\":derivative_raw[:],\"DTG_processed\":y_dev_smooth})\n",
    "df3.to_csv('./nuevaCarpeta/ejemploMicaFuncionalizada.txt',sep='\\t',index=False,decimal=',')"
   ]
  },
  {
   "cell_type": "code",
   "execution_count": 39,
   "id": "ee6c0399",
   "metadata": {},
   "outputs": [
    {
     "data": {
      "text/plain": [
       "486"
      ]
     },
     "execution_count": 39,
     "metadata": {},
     "output_type": "execute_result"
    }
   ],
   "source": [
    "b = np.where(x_interpolated>149)[0][0] #filtrado de datos\n",
    "b"
   ]
  },
  {
   "cell_type": "code",
   "execution_count": 40,
   "id": "5451bd72",
   "metadata": {},
   "outputs": [
    {
     "name": "stdout",
     "output_type": "stream",
     "text": [
      "149.09497411764707\n",
      "-0.033264297955296805\n"
     ]
    }
   ],
   "source": [
    "print(x_interpolated[b])\n",
    "print(y_dev_smooth[b])"
   ]
  },
  {
   "cell_type": "code",
   "execution_count": 41,
   "id": "1081ab43",
   "metadata": {},
   "outputs": [
    {
     "name": "stdout",
     "output_type": "stream",
     "text": [
      "[90.45493647]\n",
      "[-0.08855878]\n"
     ]
    }
   ],
   "source": [
    "min_temp = np.where(y_dev_smooth == min(y_dev_smooth[a:b]))\n",
    "print(x_interpolated[min_temp])\n",
    "print(y_dev_smooth[min_temp])"
   ]
  },
  {
   "cell_type": "code",
   "execution_count": 42,
   "id": "5b0d178b",
   "metadata": {},
   "outputs": [
    {
     "data": {
      "text/plain": [
       "-6.053955596148286"
      ]
     },
     "execution_count": 42,
     "metadata": {},
     "output_type": "execute_result"
    }
   ],
   "source": [
    "# Integración numérica con la regla trapezoidal.\n",
    "resultado_original = np.trapz(y_dev_smooth[a:b],x_interpolated[a:b])\n",
    "resultado_original"
   ]
  },
  {
   "cell_type": "code",
   "execution_count": 43,
   "id": "925353e1",
   "metadata": {},
   "outputs": [
    {
     "name": "stdout",
     "output_type": "stream",
     "text": [
      "resultado desplazado: -5.559898173689932\n",
      "error_integral: 0.4940574224583534\n"
     ]
    }
   ],
   "source": [
    "# Cálculo del error\n",
    "a_e = np.where(x>(x_interpolated[a]-0.1))[0][0]\n",
    "b_e = np.where(x>(x_interpolated[b]+0.5))[0][0]\n",
    "resultado_desplazado = np.trapz(y_dev_smooth[a_e:b_e], x_interpolated[a_e:b_e])\n",
    "print(\"resultado desplazado:\",resultado_desplazado)\n",
    "error_integral = np.abs(resultado_original - resultado_desplazado)\n",
    "print(\"error_integral:\",error_integral)"
   ]
  },
  {
   "cell_type": "code",
   "execution_count": 45,
   "id": "838ae19e",
   "metadata": {},
   "outputs": [
    {
     "name": "stdout",
     "output_type": "stream",
     "text": [
      "486\n",
      "149.09497411764707\n",
      "-0.033264297955296805\n",
      "822\n",
      "225.16853647058824\n",
      "-0.01759322526591546\n",
      "resultado -1.8711985070870432\n",
      "resultado desplazado: -1.9929096533131525\n",
      "error_integral: 0.12171114622610935\n"
     ]
    }
   ],
   "source": [
    "c = np.where(x_interpolated>149)[0][0] #filtrado de datos\n",
    "print(c)\n",
    "print(x_interpolated[c])\n",
    "print(y_dev_smooth[c])\n",
    "d = np.where(x_interpolated>225)[0][0] #filtrado de datos\n",
    "print(d)\n",
    "print(x_interpolated[d])\n",
    "print(y_dev_smooth[d])\n",
    "# Integración numérica con la regla trapezoidal.\n",
    "resultado_original = np.trapz(y_dev_smooth[c:d],x_interpolated[c:d])\n",
    "print(\"resultado\",resultado_original)\n",
    "# Cálculo del error\n",
    "c_e = np.where(x>(x_interpolated[c]-0.5))[0][0]\n",
    "d_e = np.where(x>(x_interpolated[d]+0.5))[0][0]\n",
    "resultado_desplazado = np.trapz(y_dev_smooth[c_e:d_e], x_interpolated[c_e:d_e])\n",
    "print(\"resultado desplazado:\",resultado_desplazado)\n",
    "error_integral= np.abs(resultado_original - resultado_desplazado)\n",
    "print(\"error_integral:\",error_integral)"
   ]
  },
  {
   "cell_type": "code",
   "execution_count": 48,
   "id": "4bfa6423",
   "metadata": {},
   "outputs": [
    {
     "name": "stdout",
     "output_type": "stream",
     "text": [
      "822\n",
      "225.16853647058824\n",
      "-0.01759322526591546\n",
      "1118\n",
      "292.1857223529412\n",
      "-0.003824384558243674\n",
      "resultado -0.5581424963908216\n",
      "resultado desplazado: -0.8838963100948709\n",
      "error_integral: 0.3257538137040493\n"
     ]
    }
   ],
   "source": [
    "f = np.where(x_interpolated>225)[0][0] #filtrado de datos\n",
    "print(f)\n",
    "print(x_interpolated[f])\n",
    "print(y_dev_smooth[f])\n",
    "g = np.where(x_interpolated>292)[0][0] #filtrado de datos\n",
    "print(g)\n",
    "print(x_interpolated[g])\n",
    "print(y_dev_smooth[g])\n",
    "# Integración numérica con la regla trapezoidal.\n",
    "resultado_original = np.trapz(y_dev_smooth[f:g],x_interpolated[f:g])\n",
    "print(\"resultado\",resultado_original)\n",
    "# Cálculo del error\n",
    "f_e = np.where(x>(x_interpolated[f]-0.5))[0][0]\n",
    "g_e = np.where(x>(x_interpolated[g]+0.5))[0][0]\n",
    "resultado_desplazado = np.trapz(y_dev_smooth[f_e:g_e], x_interpolated[f_e:g_e])\n",
    "print(\"resultado desplazado:\",resultado_desplazado)\n",
    "error_integral= np.abs(resultado_original - resultado_desplazado)\n",
    "print(\"error_integral:\",error_integral)"
   ]
  }
 ],
 "metadata": {
  "kernelspec": {
   "display_name": "Python 3 (ipykernel)",
   "language": "python",
   "name": "python3"
  },
  "language_info": {
   "codemirror_mode": {
    "name": "ipython",
    "version": 3
   },
   "file_extension": ".py",
   "mimetype": "text/x-python",
   "name": "python",
   "nbconvert_exporter": "python",
   "pygments_lexer": "ipython3",
   "version": "3.10.4"
  }
 },
 "nbformat": 4,
 "nbformat_minor": 5
}
